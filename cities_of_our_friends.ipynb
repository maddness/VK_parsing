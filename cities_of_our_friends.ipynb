{
 "cells": [
  {
   "cell_type": "code",
   "execution_count": 14,
   "metadata": {
    "collapsed": false
   },
   "outputs": [],
   "source": [
    "import vk"
   ]
  },
  {
   "cell_type": "code",
   "execution_count": 54,
   "metadata": {
    "collapsed": false
   },
   "outputs": [],
   "source": [
    "def get_cities_and_name(friends):\n",
    "    result = [\n",
    "        {\n",
    "            'user_id': i['user_id'],\n",
    "            'city': i['city'],\n",
    "            'name': i['first_name'] + ' ' + i['last_name']\n",
    "        }\n",
    "        for i in friends if 'city' in i]\n",
    "    \n",
    "    return result\n",
    "\n",
    "\n",
    "def get_cities(users):\n",
    "    return set([ i['city'] for i in users])\n",
    "    "
   ]
  },
  {
   "cell_type": "code",
   "execution_count": 68,
   "metadata": {
    "collapsed": false
   },
   "outputs": [],
   "source": [
    "session = vk.Session()\n",
    "api = vk.API(session)\n",
    "\n",
    "\n",
    "my_friends = get_cities_and_name(api.friends.get(user_id=2048207, fields = ['city']))\n",
    "lina_friends = get_cities_and_name(api.friends.get(user_id=17445718, fields = ['city']))\n",
    "\n",
    "sities_all = get_cities(my_friends).intersection(get_cities(lina_friends))\n"
   ]
  },
  {
   "cell_type": "code",
   "execution_count": 57,
   "metadata": {
    "collapsed": false
   },
   "outputs": [
    {
     "data": {
      "text/plain": [
       "[{'cid': 1, 'name': 'Москва'},\n",
       " {'cid': 2, 'name': 'Санкт-Петербург'},\n",
       " {'cid': 71, 'name': 'Кострома'},\n",
       " {'cid': 39, 'name': 'Владимир'}]"
      ]
     },
     "execution_count": 57,
     "metadata": {},
     "output_type": "execute_result"
    }
   ],
   "source": [
    "api.database.getCitiesById(city_ids=sities_all)"
   ]
  },
  {
   "cell_type": "code",
   "execution_count": 76,
   "metadata": {
    "collapsed": false
   },
   "outputs": [
    {
     "data": {
      "text/plain": [
       "['Татьяна Трескунова',\n",
       " 'Роман Шульга',\n",
       " 'Вероника Попова',\n",
       " 'Татьяна Щавлинская',\n",
       " 'Александр Злищев']"
      ]
     },
     "execution_count": 76,
     "metadata": {},
     "output_type": "execute_result"
    }
   ],
   "source": [
    "list( i['name'] for i in list(filter(lambda x: x['city'] == 2, lina_friends)))"
   ]
  },
  {
   "cell_type": "code",
   "execution_count": 77,
   "metadata": {
    "collapsed": false
   },
   "outputs": [
    {
     "data": {
      "text/plain": [
       "['Оксана Знаменская',\n",
       " 'Вова Есаулов',\n",
       " 'Владимир Холопов',\n",
       " 'Вика Трибух',\n",
       " 'Влад Трибух']"
      ]
     },
     "execution_count": 77,
     "metadata": {},
     "output_type": "execute_result"
    }
   ],
   "source": [
    "list( i['name'] for i in list(filter(lambda x: x['city'] == 2, my_friends)))"
   ]
  }
 ],
 "metadata": {
  "kernelspec": {
   "display_name": "Python 3",
   "language": "python",
   "name": "python3"
  },
  "language_info": {
   "codemirror_mode": {
    "name": "ipython",
    "version": 3
   },
   "file_extension": ".py",
   "mimetype": "text/x-python",
   "name": "python",
   "nbconvert_exporter": "python",
   "pygments_lexer": "ipython3",
   "version": "3.5.1"
  }
 },
 "nbformat": 4,
 "nbformat_minor": 0
}
